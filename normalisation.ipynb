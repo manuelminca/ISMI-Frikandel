{
 "cells": [
  {
   "cell_type": "code",
   "execution_count": 1,
   "metadata": {},
   "outputs": [
    {
     "name": "stdout",
     "output_type": "stream",
     "text": [
      "3.7.2 (tags/v3.7.2:9a3ffc0492, Dec 23 2018, 23:09:28) [MSC v.1916 64 bit (AMD64)]\n"
     ]
    }
   ],
   "source": [
    "import sys\n",
    "print(sys.version)\n",
    "from sklearn.model_selection import train_test_split\n",
    "import h5pickle as h5py\n",
    "import numpy as np\n",
    "#import h5py\n",
    "\n"
   ]
  },
  {
   "cell_type": "code",
   "execution_count": 3,
   "metadata": {},
   "outputs": [
    {
     "name": "stdout",
     "output_type": "stream",
     "text": [
      "Mean: 20.712852478027344,\n",
      "Standard Deviation: 100.44100952148438\n"
     ]
    }
   ],
   "source": [
    "patches_file = \"patches_dataset_nn_dim.h5\"\n",
    "hf = h5py.File(patches_file, 'r+')\n",
    "# We obtain a list with all the IDs of the patches\n",
    "all_groups = list(hf)\n",
    "# Dividing the dataset into train and validation. Shuffle has to be false otherwise the model might be trained\n",
    "# on what was previously validation set and validated on what was previously train set.\n",
    "X_train, X_validation = train_test_split(all_groups, test_size=0.2, shuffle=False)\n",
    "\n",
    "#Get the Mean and Standard Deviation from the train data\n",
    "\n",
    "train_size = len(X_train)\n",
    "#this assumes all patches are of equal size\n",
    "u = np.mean([np.mean(hf[i]['img'][()]) for i in X_train])\n",
    "sd = np.sqrt(np.mean([np.square( hf[i]['img'][()].flatten() - u ) for i in X_train]))\n",
    "\n",
    "print(f'Mean: {u},\\nStandard Deviation: {sd}')\n",
    "#Use the Mean and Standard Deviation to normalise all data\n",
    "\n",
    "assert abs(u) > 0.001 and sd > 2, \"The data appears to be normalised already.\"\n",
    "for i in all_groups:\n",
    "    hf[i]['img'][()] = (hf[i]['img'][()] - u)/sd"
   ]
  },
  {
   "cell_type": "code",
   "execution_count": 4,
   "metadata": {},
   "outputs": [],
   "source": [
    "hf.close()"
   ]
  }
 ],
 "metadata": {
  "kernelspec": {
   "display_name": "Python 3",
   "language": "python",
   "name": "python3"
  },
  "language_info": {
   "codemirror_mode": {
    "name": "ipython",
    "version": 3
   },
   "file_extension": ".py",
   "mimetype": "text/x-python",
   "name": "python",
   "nbconvert_exporter": "python",
   "pygments_lexer": "ipython3",
   "version": "3.7.2"
  }
 },
 "nbformat": 4,
 "nbformat_minor": 2
}
