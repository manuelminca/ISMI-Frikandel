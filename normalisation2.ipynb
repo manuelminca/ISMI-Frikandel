{
 "cells": [
  {
   "cell_type": "code",
   "execution_count": 6,
   "metadata": {
    "colab": {
     "base_uri": "https://localhost:8080/",
     "height": 212
    },
    "colab_type": "code",
    "executionInfo": {
     "elapsed": 5,
     "status": "error",
     "timestamp": 1559147850284,
     "user": {
      "displayName": "MANUEL MÍNGUEZ CARRETERO",
      "photoUrl": "",
      "userId": "17713557213174758831"
     },
     "user_tz": -120
    },
    "id": "NXKrQJ5mHy_-",
    "outputId": "392c7e00-c92c-414c-a23e-70ea6e055ec6"
   },
   "outputs": [
    {
     "name": "stdout",
     "output_type": "stream",
     "text": [
      "Drive already mounted at /content/drive; to attempt to forcibly remount, call drive.mount(\"/content/drive\", force_remount=True).\n"
     ]
    },
    {
     "ename": "FileNotFoundError",
     "evalue": "ignored",
     "output_type": "error",
     "traceback": [
      "\u001b[0;31m---------------------------------------------------------------------------\u001b[0m",
      "\u001b[0;31mFileNotFoundError\u001b[0m                         Traceback (most recent call last)",
      "\u001b[0;32m<ipython-input-6-91f0bed9ca61>\u001b[0m in \u001b[0;36m<module>\u001b[0;34m()\u001b[0m\n\u001b[1;32m      2\u001b[0m \u001b[0mdrive\u001b[0m\u001b[0;34m.\u001b[0m\u001b[0mmount\u001b[0m\u001b[0;34m(\u001b[0m\u001b[0;34m'/content/drive'\u001b[0m\u001b[0;34m)\u001b[0m\u001b[0;34m\u001b[0m\u001b[0;34m\u001b[0m\u001b[0m\n\u001b[1;32m      3\u001b[0m \u001b[0;32mimport\u001b[0m \u001b[0mos\u001b[0m\u001b[0;34m\u001b[0m\u001b[0;34m\u001b[0m\u001b[0m\n\u001b[0;32m----> 4\u001b[0;31m \u001b[0mos\u001b[0m\u001b[0;34m.\u001b[0m\u001b[0mchdir\u001b[0m\u001b[0;34m(\u001b[0m\u001b[0;34m\"drive/My Drive/ISMI FRIKANDEL GCLOUD/\"\u001b[0m\u001b[0;34m)\u001b[0m\u001b[0;34m\u001b[0m\u001b[0;34m\u001b[0m\u001b[0m\n\u001b[0m",
      "\u001b[0;31mFileNotFoundError\u001b[0m: [Errno 2] No such file or directory: 'drive/My Drive/ISMI FRIKANDEL GCLOUD/'"
     ]
    }
   ],
   "source": [
    "from google.colab import drive\n",
    "drive.mount('/content/drive')\n",
    "import os\n",
    "os.chdir(\"drive/My Drive/ISMI FRIKANDEL GCLOUD/\")"
   ]
  },
  {
   "cell_type": "code",
   "execution_count": 31,
   "metadata": {
    "colab": {
     "base_uri": "https://localhost:8080/",
     "height": 252
    },
    "colab_type": "code",
    "executionInfo": {
     "elapsed": 7831,
     "status": "ok",
     "timestamp": 1559145658213,
     "user": {
      "displayName": "MANUEL MÍNGUEZ CARRETERO",
      "photoUrl": "",
      "userId": "17713557213174758831"
     },
     "user_tz": -120
    },
    "id": "-VeaonPTHiWj",
    "outputId": "8e3fdd45-2517-4cd6-f1cb-d2e99c9d7329"
   },
   "outputs": [
    {
     "name": "stdout",
     "output_type": "stream",
     "text": [
      "Requirement already satisfied: h5pickle in c:\\users\\max_m\\appdata\\local\\programs\\python\\python36\\lib\\site-packages (0.3)\n",
      "Requirement already satisfied: h5py in c:\\users\\max_m\\appdata\\local\\programs\\python\\python36\\lib\\site-packages (from h5pickle) (2.8.0)\n",
      "Requirement already satisfied: cachetools in c:\\users\\max_m\\appdata\\local\\programs\\python\\python36\\lib\\site-packages (from h5pickle) (3.1.0)\n",
      "Requirement already satisfied: numpy>=1.7 in c:\\users\\max_m\\appdata\\local\\programs\\python\\python36\\lib\\site-packages (from h5py->h5pickle) (1.16.2)\n",
      "Requirement already satisfied: six in c:\\users\\max_m\\appdata\\local\\programs\\python\\python36\\lib\\site-packages (from h5py->h5pickle) (1.11.0)\n",
      "3.6.2 (v3.6.2:5fd33b5, Jul  8 2017, 04:57:36) [MSC v.1900 64 bit (AMD64)]\n"
     ]
    }
   ],
   "source": [
    "import sys\n",
    "!pip install h5pickle\n",
    "print(sys.version)\n",
    "from sklearn.model_selection import train_test_split\n",
    "import h5pickle as h5py\n",
    "import numpy as np\n",
    "import time\n",
    "#import h5py\n",
    "\n"
   ]
  },
  {
   "cell_type": "code",
   "execution_count": 34,
   "metadata": {
    "colab": {
     "base_uri": "https://localhost:8080/",
     "height": 70
    },
    "colab_type": "code",
    "executionInfo": {
     "elapsed": 1291,
     "status": "ok",
     "timestamp": 1559149137902,
     "user": {
      "displayName": "MANUEL MÍNGUEZ CARRETERO",
      "photoUrl": "",
      "userId": "17713557213174758831"
     },
     "user_tz": -120
    },
    "id": "7JI0xV8sLOcg",
    "outputId": "fa8e69af-2873-4c4e-b9d4-734935660b8d"
   },
   "outputs": [
    {
     "name": "stdout",
     "output_type": "stream",
     "text": [
      "Mu = -8.148766166478396\n",
      "Sd = 99.55440198357657\n",
      "Time taken to compute mu: 53.42953538894653\n",
      "Time taken to compute sd: 54.06921577453613\n",
      "Time taken to normalize images: 122.60400629043579\n"
     ]
    }
   ],
   "source": [
    "# Enter all filenames in the patches_files list\n",
    "patches_files = [\"patches_intermediate.h5\"]\n",
    "N = 0\n",
    "sum = 0\n",
    "start = time.time()\n",
    "\n",
    "for files in patches_files:\n",
    "    hf = h5py.File(patches_file, 'r+')\n",
    "    \n",
    "    for dir in hf:\n",
    "        indices = list(hf[dir])\n",
    "        for i in indices:\n",
    "            #sums = np.append(sums,np.sum(hf[dir][i]['img'][()]))\n",
    "            sum += np.sum(hf[dir][i]['img'][()])\n",
    "            N += np.prod(hf[dir][i]['img'][()].shape)\n",
    "    hf.close()\n",
    "mu = sum / N\n",
    "\n",
    "end = time.time()\n",
    "mutime = end - start\n",
    "\n",
    "start = time.time()\n",
    "# Compute std\n",
    "sum = 0\n",
    "for files in patches_files:\n",
    "    hf = h5py.File(patches_file, 'r+')\n",
    "    for dir in hf:\n",
    "        indices = list(hf[dir])\n",
    "        for i in indices:\n",
    "            sum += np.sum((hf[dir][i]['img'][()] - mu)**2)\n",
    "    hf.close()\n",
    "sd = (sum / N)**.5\n",
    "\n",
    "end = time.time()\n",
    "sdtime = end - start\n",
    "\n",
    "start = time.time()\n",
    "# Apply normalization:\n",
    "for files in patches_files:\n",
    "    hf = h5py.File(patches_file, 'r+')\n",
    "    for dir in hf:\n",
    "        indices = list(hf[dir])\n",
    "        for i in indices:\n",
    "            hf[dir][i]['img'][()] = (hf[dir][i]['img'][()] - mu) / sd\n",
    "    ### Save the normalized dataset here ###\n",
    "    \n",
    "    ###\n",
    "    hf.close()\n",
    "\n",
    "end = time.time()\n",
    "normtime = end - start\n",
    "print(\"Mu = \" + str(mu))\n",
    "print(\"Sd = \" + str(sd))\n",
    "print(\"Time taken to compute mu: \" + str(mutime))\n",
    "print(\"Time taken to compute sd: \" + str(sdtime))\n",
    "print(\"Time taken to normalize images: \" + str(normtime))"
   ]
  }
 ],
 "metadata": {
  "colab": {
   "name": "normalisation.ipynb",
   "provenance": [],
   "version": "0.3.2"
  },
  "kernelspec": {
   "display_name": "Python 3",
   "language": "python",
   "name": "python3"
  },
  "language_info": {
   "codemirror_mode": {
    "name": "ipython",
    "version": 3
   },
   "file_extension": ".py",
   "mimetype": "text/x-python",
   "name": "python",
   "nbconvert_exporter": "python",
   "pygments_lexer": "ipython3",
   "version": "3.6.2"
  }
 },
 "nbformat": 4,
 "nbformat_minor": 1
}
